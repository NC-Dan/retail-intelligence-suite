{
 "cells": [
  {
   "cell_type": "markdown",
   "id": "4f21471a-b66b-4166-b946-16f7152fb2d4",
   "metadata": {},
   "source": [
    "# Retail Data Analysis & Cleaning Project\n",
    "**Author:** [Duncan Chicho](https://www.linkedin.com/in/duncan-analytics/) | **Date:** 22/06/2025 | **Dataset:** UK Online Retail (541,900 + records) | \n",
    "- **Data Source link:** [Online Retail Dataset](https://archive.ics.uci.edu/dataset/352/online+retail) from UC Irvine Machine Learning Repository.\n",
    "\n",
    "## Dataset Information\n",
    "This is a transactional data set which contains all the transactions occurring between 01/12/2010 and 09/12/2011 for a UK-based and registered non-store online retail.The company mainly sells unique all-occasion gifts. Many customers of the company are wholesalers.\n",
    "\n",
    "## Project Overview\n",
    "This notebook demonstrates comprehensive data cleaning and preparation techniques on a real-world retail dataset. The analysis focuses on data quality assessment, systematic cleaning procedures, and feature engineering for business insights.\n",
    "\n",
    "## 🎯 Key Objectives\n",
    "- Assess and clean data quality issues (duplicates, missing values, inconsistencies)\n",
    "- Prepare dataset for advanced analytics and business intelligence\n",
    "- Create time-based features for trend analysis\n",
    "- Document professional data stewardship practices\n",
    "\n",
    "## 🔍 Dataset Summary\n",
    "- **Size:** 541,909 records across 8 columns\n",
    "- **Time Period:** December 2010 - December 2011\n",
    "- **Geographic Scope:** Primarily UK with international customers\n",
    "- **Business Context:** B2C online retail transactions"
   ]
  },
  {
   "cell_type": "code",
   "execution_count": 2,
   "id": "3b6f58ba-35b4-4d29-96c1-23c8b2d7daaa",
   "metadata": {},
   "outputs": [],
   "source": [
    "#Install required library\n",
    "import pandas as pd"
   ]
  },
  {
   "cell_type": "code",
   "execution_count": 3,
   "id": "4816aa70-ddf3-4f6d-a88d-e34f145111ad",
   "metadata": {},
   "outputs": [],
   "source": [
    "#Load data\n",
    "df = pd.read_csv(\"C:\\\\Users\\\\DELL\\\\Desktop\\\\PYTHON-FILES\\\\EXCEL DATAS\\\\Online Retail data & PROJECT\\\\Online Retail.xlsx.csv\", encoding='latin1')"
   ]
  },
  {
   "cell_type": "markdown",
   "id": "561038e1-3405-46d3-93cf-7594cf838dd6",
   "metadata": {},
   "source": [
    "===================================================================================================="
   ]
  },
  {
   "cell_type": "markdown",
   "id": "2c8e2916-8c1f-4057-a4ce-b165292ec07f",
   "metadata": {},
   "source": [
    "## Phase 1: Data Quality Assessment"
   ]
  },
  {
   "cell_type": "markdown",
   "id": "92121e65-cd5b-4571-bfb1-e2f36e67fdc8",
   "metadata": {},
   "source": [
    "A Data overview to understand our dataset"
   ]
  },
  {
   "cell_type": "code",
   "execution_count": 5,
   "id": "d5961a4b-0044-4608-ba2e-0e7584968c16",
   "metadata": {},
   "outputs": [
    {
     "data": {
      "text/html": [
       "<div>\n",
       "<style scoped>\n",
       "    .dataframe tbody tr th:only-of-type {\n",
       "        vertical-align: middle;\n",
       "    }\n",
       "\n",
       "    .dataframe tbody tr th {\n",
       "        vertical-align: top;\n",
       "    }\n",
       "\n",
       "    .dataframe thead th {\n",
       "        text-align: right;\n",
       "    }\n",
       "</style>\n",
       "<table border=\"1\" class=\"dataframe\">\n",
       "  <thead>\n",
       "    <tr style=\"text-align: right;\">\n",
       "      <th></th>\n",
       "      <th>InvoiceNo</th>\n",
       "      <th>StockCode</th>\n",
       "      <th>Description</th>\n",
       "      <th>Quantity</th>\n",
       "      <th>InvoiceDate</th>\n",
       "      <th>UnitPrice</th>\n",
       "      <th>CustomerID</th>\n",
       "      <th>Country</th>\n",
       "    </tr>\n",
       "  </thead>\n",
       "  <tbody>\n",
       "    <tr>\n",
       "      <th>0</th>\n",
       "      <td>536365</td>\n",
       "      <td>85123A</td>\n",
       "      <td>WHITE HANGING HEART T-LIGHT HOLDER</td>\n",
       "      <td>6</td>\n",
       "      <td>12/1/2010 8:26</td>\n",
       "      <td>2.55</td>\n",
       "      <td>17850.0</td>\n",
       "      <td>United Kingdom</td>\n",
       "    </tr>\n",
       "    <tr>\n",
       "      <th>1</th>\n",
       "      <td>536365</td>\n",
       "      <td>71053</td>\n",
       "      <td>WHITE METAL LANTERN</td>\n",
       "      <td>6</td>\n",
       "      <td>12/1/2010 8:26</td>\n",
       "      <td>3.39</td>\n",
       "      <td>17850.0</td>\n",
       "      <td>United Kingdom</td>\n",
       "    </tr>\n",
       "    <tr>\n",
       "      <th>2</th>\n",
       "      <td>536365</td>\n",
       "      <td>84406B</td>\n",
       "      <td>CREAM CUPID HEARTS COAT HANGER</td>\n",
       "      <td>8</td>\n",
       "      <td>12/1/2010 8:26</td>\n",
       "      <td>2.75</td>\n",
       "      <td>17850.0</td>\n",
       "      <td>United Kingdom</td>\n",
       "    </tr>\n",
       "    <tr>\n",
       "      <th>3</th>\n",
       "      <td>536365</td>\n",
       "      <td>84029G</td>\n",
       "      <td>KNITTED UNION FLAG HOT WATER BOTTLE</td>\n",
       "      <td>6</td>\n",
       "      <td>12/1/2010 8:26</td>\n",
       "      <td>3.39</td>\n",
       "      <td>17850.0</td>\n",
       "      <td>United Kingdom</td>\n",
       "    </tr>\n",
       "    <tr>\n",
       "      <th>4</th>\n",
       "      <td>536365</td>\n",
       "      <td>84029E</td>\n",
       "      <td>RED WOOLLY HOTTIE WHITE HEART.</td>\n",
       "      <td>6</td>\n",
       "      <td>12/1/2010 8:26</td>\n",
       "      <td>3.39</td>\n",
       "      <td>17850.0</td>\n",
       "      <td>United Kingdom</td>\n",
       "    </tr>\n",
       "    <tr>\n",
       "      <th>...</th>\n",
       "      <td>...</td>\n",
       "      <td>...</td>\n",
       "      <td>...</td>\n",
       "      <td>...</td>\n",
       "      <td>...</td>\n",
       "      <td>...</td>\n",
       "      <td>...</td>\n",
       "      <td>...</td>\n",
       "    </tr>\n",
       "    <tr>\n",
       "      <th>541904</th>\n",
       "      <td>581587</td>\n",
       "      <td>22613</td>\n",
       "      <td>PACK OF 20 SPACEBOY NAPKINS</td>\n",
       "      <td>12</td>\n",
       "      <td>12/9/2011 12:50</td>\n",
       "      <td>0.85</td>\n",
       "      <td>12680.0</td>\n",
       "      <td>France</td>\n",
       "    </tr>\n",
       "    <tr>\n",
       "      <th>541905</th>\n",
       "      <td>581587</td>\n",
       "      <td>22899</td>\n",
       "      <td>CHILDREN'S APRON DOLLY GIRL</td>\n",
       "      <td>6</td>\n",
       "      <td>12/9/2011 12:50</td>\n",
       "      <td>2.10</td>\n",
       "      <td>12680.0</td>\n",
       "      <td>France</td>\n",
       "    </tr>\n",
       "    <tr>\n",
       "      <th>541906</th>\n",
       "      <td>581587</td>\n",
       "      <td>23254</td>\n",
       "      <td>CHILDRENS CUTLERY DOLLY GIRL</td>\n",
       "      <td>4</td>\n",
       "      <td>12/9/2011 12:50</td>\n",
       "      <td>4.15</td>\n",
       "      <td>12680.0</td>\n",
       "      <td>France</td>\n",
       "    </tr>\n",
       "    <tr>\n",
       "      <th>541907</th>\n",
       "      <td>581587</td>\n",
       "      <td>23255</td>\n",
       "      <td>CHILDRENS CUTLERY CIRCUS PARADE</td>\n",
       "      <td>4</td>\n",
       "      <td>12/9/2011 12:50</td>\n",
       "      <td>4.15</td>\n",
       "      <td>12680.0</td>\n",
       "      <td>France</td>\n",
       "    </tr>\n",
       "    <tr>\n",
       "      <th>541908</th>\n",
       "      <td>581587</td>\n",
       "      <td>22138</td>\n",
       "      <td>BAKING SET 9 PIECE RETROSPOT</td>\n",
       "      <td>3</td>\n",
       "      <td>12/9/2011 12:50</td>\n",
       "      <td>4.95</td>\n",
       "      <td>12680.0</td>\n",
       "      <td>France</td>\n",
       "    </tr>\n",
       "  </tbody>\n",
       "</table>\n",
       "<p>541909 rows × 8 columns</p>\n",
       "</div>"
      ],
      "text/plain": [
       "       InvoiceNo StockCode                          Description  Quantity  \\\n",
       "0         536365    85123A   WHITE HANGING HEART T-LIGHT HOLDER         6   \n",
       "1         536365     71053                  WHITE METAL LANTERN         6   \n",
       "2         536365    84406B       CREAM CUPID HEARTS COAT HANGER         8   \n",
       "3         536365    84029G  KNITTED UNION FLAG HOT WATER BOTTLE         6   \n",
       "4         536365    84029E       RED WOOLLY HOTTIE WHITE HEART.         6   \n",
       "...          ...       ...                                  ...       ...   \n",
       "541904    581587     22613          PACK OF 20 SPACEBOY NAPKINS        12   \n",
       "541905    581587     22899         CHILDREN'S APRON DOLLY GIRL          6   \n",
       "541906    581587     23254        CHILDRENS CUTLERY DOLLY GIRL          4   \n",
       "541907    581587     23255      CHILDRENS CUTLERY CIRCUS PARADE         4   \n",
       "541908    581587     22138        BAKING SET 9 PIECE RETROSPOT          3   \n",
       "\n",
       "            InvoiceDate  UnitPrice  CustomerID         Country  \n",
       "0        12/1/2010 8:26       2.55     17850.0  United Kingdom  \n",
       "1        12/1/2010 8:26       3.39     17850.0  United Kingdom  \n",
       "2        12/1/2010 8:26       2.75     17850.0  United Kingdom  \n",
       "3        12/1/2010 8:26       3.39     17850.0  United Kingdom  \n",
       "4        12/1/2010 8:26       3.39     17850.0  United Kingdom  \n",
       "...                 ...        ...         ...             ...  \n",
       "541904  12/9/2011 12:50       0.85     12680.0          France  \n",
       "541905  12/9/2011 12:50       2.10     12680.0          France  \n",
       "541906  12/9/2011 12:50       4.15     12680.0          France  \n",
       "541907  12/9/2011 12:50       4.15     12680.0          France  \n",
       "541908  12/9/2011 12:50       4.95     12680.0          France  \n",
       "\n",
       "[541909 rows x 8 columns]"
      ]
     },
     "execution_count": 5,
     "metadata": {},
     "output_type": "execute_result"
    }
   ],
   "source": [
    "df"
   ]
  },
  {
   "cell_type": "code",
   "execution_count": 44,
   "id": "ed946828-0db0-40b1-8788-166086130507",
   "metadata": {},
   "outputs": [],
   "source": [
    "df_before_cleaning = df.copy()\n",
    "# Working with a copy increases data precision improves data quality, which is crucial for making informed business decisions."
   ]
  },
  {
   "cell_type": "markdown",
   "id": "12632af3-84a3-4ff7-8c91-961c39b45ebd",
   "metadata": {},
   "source": [
    "1. Identifying Duplicates:"
   ]
  },
  {
   "cell_type": "code",
   "execution_count": 62,
   "id": "2ea81b60-22fc-4615-9963-b12915b55018",
   "metadata": {},
   "outputs": [
    {
     "name": "stdout",
     "output_type": "stream",
     "text": [
      "Duplicate records: 5,268 (1.0%)\n"
     ]
    }
   ],
   "source": [
    "# This counts the number of duplicate rows in our dataframe, shows 5,268.\n",
    "duplicates_count = df_before_cleaning.duplicated().sum()\n",
    "print(f\"Duplicate records: {duplicates_count:,} ({duplicates_count/len(df_before_cleaning)*100:.1f}%)\")"
   ]
  },
  {
   "cell_type": "markdown",
   "id": "f3510852-cffe-4ff2-97bc-b9fe90a2df39",
   "metadata": {},
   "source": [
    "2. Identifying  missing values:"
   ]
  },
  {
   "cell_type": "code",
   "execution_count": 61,
   "id": "8c66bb01-f65b-4e5c-b42f-30486386e6e5",
   "metadata": {},
   "outputs": [
    {
     "name": "stdout",
     "output_type": "stream",
     "text": [
      "Columns     no of null values\n",
      "\n",
      "InvoiceNo           0\n",
      "StockCode           0\n",
      "Description      1454\n",
      "Quantity            0\n",
      "InvoiceDate         0\n",
      "UnitPrice           0\n",
      "CustomerID     135080\n",
      "Country             0\n",
      "dtype: int64\n",
      "\n",
      "Total missing values before cleaning: 136,534 cells\n"
     ]
    }
   ],
   "source": [
    "# Checking for missing values in our data:\n",
    "print(\"Columns     no of null values\\n\")\n",
    "print(df_before_cleaning.isna().sum())\n",
    "print(f\"\\nTotal missing values before cleaning: {df_before_cleaning.isna().sum().sum():,} cells\")"
   ]
  },
  {
   "cell_type": "markdown",
   "id": "465108ac-9499-4190-a18e-7f3cade51b89",
   "metadata": {},
   "source": [
    "3. Quick Data Health Check overview and Data Type Validation"
   ]
  },
  {
   "cell_type": "code",
   "execution_count": 47,
   "id": "eaaa239e-74d9-47c9-bd39-618c8a687c1a",
   "metadata": {},
   "outputs": [
    {
     "name": "stdout",
     "output_type": "stream",
     "text": [
      "<class 'pandas.core.frame.DataFrame'>\n",
      "RangeIndex: 541905 entries, 0 to 541904\n",
      "Data columns (total 8 columns):\n",
      " #   Column       Non-Null Count   Dtype  \n",
      "---  ------       --------------   -----  \n",
      " 0   InvoiceNo    541905 non-null  object \n",
      " 1   StockCode    541905 non-null  object \n",
      " 2   Description  540451 non-null  object \n",
      " 3   Quantity     541905 non-null  int64  \n",
      " 4   InvoiceDate  541905 non-null  object \n",
      " 5   UnitPrice    541905 non-null  float64\n",
      " 6   CustomerID   406825 non-null  float64\n",
      " 7   Country      541905 non-null  object \n",
      "dtypes: float64(2), int64(1), object(5)\n",
      "memory usage: 33.1+ MB\n"
     ]
    }
   ],
   "source": [
    "df_before_cleaning.info()\n",
    "# This provides a concise summary of the DataFrame including non-null entries for each column and their data types(dtypes)\n",
    "# Note! customerID has about 135,080(541909 - 406829) Null-entries and in a wrong Dtype \"float64\", "
   ]
  },
  {
   "cell_type": "markdown",
   "id": "fd4afea5-b750-4e0d-a766-7e42abfadb6e",
   "metadata": {},
   "source": [
    "===================================================================================================="
   ]
  },
  {
   "cell_type": "markdown",
   "id": "83dba377-effd-4ada-a3a0-f6e8ff748213",
   "metadata": {},
   "source": [
    "\n",
    " ## PHASE 2: DATA CLEANING & PREPARATION\n",
    "\n",
    "\n",
    "Objective: Systematically address data quality issues to ensure dataset integrity\n",
    "for downstream analysis and business reporting.\n",
    "\n",
    "Key Steps:\n",
    "1. Remove exact duplicates (operational data redundancy)\n",
    "2. Handle missing values (business impact assessment)\n",
    "3. Standardize data types (analytical requirements)\n",
    "4. Create time-based features (trend analysis enablement)\n",
    "5. Validate customer identification format\n",
    "6. Remove invalid transactions\n",
    "7. Address missing country information\n",
    "8. Remove administrative entries (non-product transactions)\n",
    "9. Validate customer identification format\n",
    "10. Ensured clean DataFrame indexing structure"
   ]
  },
  {
   "cell_type": "code",
   "execution_count": 48,
   "id": "fb0a0046-cc6c-4293-8d56-68ba60c9de62",
   "metadata": {},
   "outputs": [],
   "source": [
    "# 1. Remove exact duplicates (operational data redundancy) by droppimg them.\n",
    "df = df.drop_duplicates()"
   ]
  },
  {
   "cell_type": "code",
   "execution_count": 49,
   "id": "260c5951-75c9-47d5-baad-71527e5c8de9",
   "metadata": {},
   "outputs": [],
   "source": [
    "# 2. Handle missing values (business impact assessment) by dropping them too\n",
    "df = df.dropna()"
   ]
  },
  {
   "cell_type": "code",
   "execution_count": 50,
   "id": "2b9494ba-0bf4-443a-b08b-f2bf6834effa",
   "metadata": {},
   "outputs": [],
   "source": [
    "# 3. Standardize data types (analytical requirements)\n",
    "\n",
    "# Converting customerID to Object(str); This is a proper data type for customerID NOT float(numbers with decimal i.e 43264.01) as before\n",
    "df['CustomerID'] = df['CustomerID'].astype(str)\n",
    "\n",
    "# All description to upper case for consistency in our data\n",
    "df['Description'] = df['Description'].str.upper()"
   ]
  },
  {
   "cell_type": "code",
   "execution_count": 6,
   "id": "560c0655-4de0-42f4-9cb4-440d08d5c05f",
   "metadata": {},
   "outputs": [],
   "source": [
    "# 4. Create time-based features for trend analysis\n",
    "\n",
    "# Convert InvoiceDate to datetime, this is a Standardize data types for \"InvoiceDate\" column\n",
    "df['InvoiceDate'] = pd.to_datetime(df['InvoiceDate'])\n",
    "\n",
    "# Create Time-Based Columns (Year,Month,Day,Weekday,Hour) this will help us understand trends and patterns better in phase 3 (Exploratory Data Analysis)\n",
    "df['Year'] = df['InvoiceDate'].dt.year\n",
    "df['Month'] = df['InvoiceDate'].dt.month\n",
    "df['Day'] = df['InvoiceDate'].dt.day\n",
    "df['Weekday'] = df['InvoiceDate'].dt.day_name()\n",
    "df['Hour'] = df['InvoiceDate'].dt.hour"
   ]
  },
  {
   "cell_type": "code",
   "execution_count": 52,
   "id": "d2343560-5fae-4938-b103-b836d1d2f417",
   "metadata": {},
   "outputs": [],
   "source": [
    "# 5. Create TotalPrice/Revenue Column, this will help us asses the financial health of our business\n",
    "df['TotalPrice'] = df['Quantity'] * df['UnitPrice']"
   ]
  },
  {
   "cell_type": "code",
   "execution_count": 53,
   "id": "c62dd2d8-d08f-4951-801e-91312d91fdef",
   "metadata": {},
   "outputs": [],
   "source": [
    "# 6. Remove invalid transactions\n",
    "\n",
    "# I removed/dropped Cancelled transactions (invoices starting with 'C')to ensure our data reflects the true economic reality of our businesss operation.\n",
    "df = df[~df['InvoiceNo'].astype(str).str.startswith('C')]\n",
    "\n",
    "# Remove invalid transactions (negative quantities or prices)\n",
    "df = df[(df['Quantity'] > 0) & (df['UnitPrice'] > 0)]"
   ]
  },
  {
   "cell_type": "code",
   "execution_count": 54,
   "id": "40bf6d1d-b0b1-4198-a91b-f5a6e054eadb",
   "metadata": {},
   "outputs": [],
   "source": [
    "# 7. Address missing country information\n",
    "# Remember we had \"Unspecified\" country in our dataset, I changed that to Missing while retaining valuable transaction.\n",
    "df['Country'] = df['Country'].replace('Unspecified', 'Missing')"
   ]
  },
  {
   "cell_type": "code",
   "execution_count": 74,
   "id": "d512bfc2-dd84-43b7-8d91-c15854a185e8",
   "metadata": {},
   "outputs": [],
   "source": [
    "# 8. Remove administrative entries (non-product transactions)\n",
    "\n",
    "# Drop rows where StockCode is \"BANK CHARGES\"\n",
    "df = df[df['StockCode'] != 'BANK CHARGES']"
   ]
  },
  {
   "cell_type": "code",
   "execution_count": 57,
   "id": "6da74216-dc4e-4586-8594-740531fca9fa",
   "metadata": {},
   "outputs": [],
   "source": [
    "# 9. Validate customer identification format\n",
    "df['CustomerID'] = df['CustomerID'].astype(str)"
   ]
  },
  {
   "cell_type": "code",
   "execution_count": 58,
   "id": "0d5928f9-4514-4676-becf-056ced136603",
   "metadata": {},
   "outputs": [],
   "source": [
    "# 10. Ensured clean DataFrame indexing structure\n",
    "df = df.reset_index(drop=True).copy() "
   ]
  },
  {
   "cell_type": "markdown",
   "id": "d9759167-cbfd-405b-8df6-da093ca1aeb3",
   "metadata": {},
   "source": [
    "===================================================================================================="
   ]
  },
  {
   "cell_type": "markdown",
   "id": "67cf9129-f496-4a67-8427-03a806a08370",
   "metadata": {},
   "source": [
    "## Preview Of Our Work Before And After Cleaning"
   ]
  },
  {
   "cell_type": "code",
   "execution_count": 73,
   "id": "822ea151-0505-4cae-bef3-ac0a64d0066f",
   "metadata": {},
   "outputs": [
    {
     "name": "stdout",
     "output_type": "stream",
     "text": [
      "\n",
      "                    OVERVIEW OF OUR DATA BEFORE CLEANING:\n",
      "\n"
     ]
    },
    {
     "data": {
      "text/html": [
       "<div>\n",
       "<style scoped>\n",
       "    .dataframe tbody tr th:only-of-type {\n",
       "        vertical-align: middle;\n",
       "    }\n",
       "\n",
       "    .dataframe tbody tr th {\n",
       "        vertical-align: top;\n",
       "    }\n",
       "\n",
       "    .dataframe thead th {\n",
       "        text-align: right;\n",
       "    }\n",
       "</style>\n",
       "<table border=\"1\" class=\"dataframe\">\n",
       "  <thead>\n",
       "    <tr style=\"text-align: right;\">\n",
       "      <th></th>\n",
       "      <th>InvoiceNo</th>\n",
       "      <th>StockCode</th>\n",
       "      <th>Description</th>\n",
       "      <th>Quantity</th>\n",
       "      <th>InvoiceDate</th>\n",
       "      <th>UnitPrice</th>\n",
       "      <th>CustomerID</th>\n",
       "      <th>Country</th>\n",
       "    </tr>\n",
       "  </thead>\n",
       "  <tbody>\n",
       "    <tr>\n",
       "      <th>0</th>\n",
       "      <td>536365</td>\n",
       "      <td>85123A</td>\n",
       "      <td>WHITE HANGING HEART T-LIGHT HOLDER</td>\n",
       "      <td>6</td>\n",
       "      <td>12/1/2010 8:26</td>\n",
       "      <td>2.55</td>\n",
       "      <td>17850.0</td>\n",
       "      <td>United Kingdom</td>\n",
       "    </tr>\n",
       "    <tr>\n",
       "      <th>1</th>\n",
       "      <td>536365</td>\n",
       "      <td>71053</td>\n",
       "      <td>WHITE METAL LANTERN</td>\n",
       "      <td>6</td>\n",
       "      <td>12/1/2010 8:26</td>\n",
       "      <td>3.39</td>\n",
       "      <td>17850.0</td>\n",
       "      <td>United Kingdom</td>\n",
       "    </tr>\n",
       "    <tr>\n",
       "      <th>2</th>\n",
       "      <td>536365</td>\n",
       "      <td>84406B</td>\n",
       "      <td>CREAM CUPID HEARTS COAT HANGER</td>\n",
       "      <td>8</td>\n",
       "      <td>12/1/2010 8:26</td>\n",
       "      <td>2.75</td>\n",
       "      <td>17850.0</td>\n",
       "      <td>United Kingdom</td>\n",
       "    </tr>\n",
       "    <tr>\n",
       "      <th>3</th>\n",
       "      <td>536365</td>\n",
       "      <td>84029G</td>\n",
       "      <td>KNITTED UNION FLAG HOT WATER BOTTLE</td>\n",
       "      <td>6</td>\n",
       "      <td>12/1/2010 8:26</td>\n",
       "      <td>3.39</td>\n",
       "      <td>17850.0</td>\n",
       "      <td>United Kingdom</td>\n",
       "    </tr>\n",
       "    <tr>\n",
       "      <th>4</th>\n",
       "      <td>536365</td>\n",
       "      <td>84029E</td>\n",
       "      <td>RED WOOLLY HOTTIE WHITE HEART.</td>\n",
       "      <td>6</td>\n",
       "      <td>12/1/2010 8:26</td>\n",
       "      <td>3.39</td>\n",
       "      <td>17850.0</td>\n",
       "      <td>United Kingdom</td>\n",
       "    </tr>\n",
       "  </tbody>\n",
       "</table>\n",
       "</div>"
      ],
      "text/plain": [
       "  InvoiceNo StockCode                          Description  Quantity  \\\n",
       "0    536365    85123A   WHITE HANGING HEART T-LIGHT HOLDER         6   \n",
       "1    536365     71053                  WHITE METAL LANTERN         6   \n",
       "2    536365    84406B       CREAM CUPID HEARTS COAT HANGER         8   \n",
       "3    536365    84029G  KNITTED UNION FLAG HOT WATER BOTTLE         6   \n",
       "4    536365    84029E       RED WOOLLY HOTTIE WHITE HEART.         6   \n",
       "\n",
       "      InvoiceDate  UnitPrice  CustomerID         Country  \n",
       "0  12/1/2010 8:26       2.55     17850.0  United Kingdom  \n",
       "1  12/1/2010 8:26       3.39     17850.0  United Kingdom  \n",
       "2  12/1/2010 8:26       2.75     17850.0  United Kingdom  \n",
       "3  12/1/2010 8:26       3.39     17850.0  United Kingdom  \n",
       "4  12/1/2010 8:26       3.39     17850.0  United Kingdom  "
      ]
     },
     "execution_count": 73,
     "metadata": {},
     "output_type": "execute_result"
    }
   ],
   "source": [
    "print(\"\\n                    OVERVIEW OF OUR DATA BEFORE CLEANING:\\n\")\n",
    "df_before_cleaning.head()"
   ]
  },
  {
   "cell_type": "code",
   "execution_count": 72,
   "id": "f4a8743d-5ed7-46f9-9a64-a4491b90c8df",
   "metadata": {},
   "outputs": [
    {
     "name": "stdout",
     "output_type": "stream",
     "text": [
      "\n",
      "                    OVERVIEW OF OUR DATA AFTER CLEANING:\n",
      "\n"
     ]
    },
    {
     "data": {
      "text/html": [
       "<div>\n",
       "<style scoped>\n",
       "    .dataframe tbody tr th:only-of-type {\n",
       "        vertical-align: middle;\n",
       "    }\n",
       "\n",
       "    .dataframe tbody tr th {\n",
       "        vertical-align: top;\n",
       "    }\n",
       "\n",
       "    .dataframe thead th {\n",
       "        text-align: right;\n",
       "    }\n",
       "</style>\n",
       "<table border=\"1\" class=\"dataframe\">\n",
       "  <thead>\n",
       "    <tr style=\"text-align: right;\">\n",
       "      <th></th>\n",
       "      <th>InvoiceNo</th>\n",
       "      <th>StockCode</th>\n",
       "      <th>Description</th>\n",
       "      <th>Quantity</th>\n",
       "      <th>InvoiceDate</th>\n",
       "      <th>UnitPrice</th>\n",
       "      <th>CustomerID</th>\n",
       "      <th>Country</th>\n",
       "      <th>Year</th>\n",
       "      <th>Month</th>\n",
       "      <th>Day</th>\n",
       "      <th>Weekday</th>\n",
       "      <th>Hour</th>\n",
       "      <th>TotalPrice</th>\n",
       "    </tr>\n",
       "  </thead>\n",
       "  <tbody>\n",
       "    <tr>\n",
       "      <th>0</th>\n",
       "      <td>536365</td>\n",
       "      <td>85123A</td>\n",
       "      <td>WHITE HANGING HEART T-LIGHT HOLDER</td>\n",
       "      <td>6</td>\n",
       "      <td>2010-12-01 08:26:00</td>\n",
       "      <td>2.55</td>\n",
       "      <td>17850.0</td>\n",
       "      <td>United Kingdom</td>\n",
       "      <td>2010</td>\n",
       "      <td>12</td>\n",
       "      <td>1</td>\n",
       "      <td>Wednesday</td>\n",
       "      <td>8</td>\n",
       "      <td>15.30</td>\n",
       "    </tr>\n",
       "    <tr>\n",
       "      <th>1</th>\n",
       "      <td>536365</td>\n",
       "      <td>71053</td>\n",
       "      <td>WHITE METAL LANTERN</td>\n",
       "      <td>6</td>\n",
       "      <td>2010-12-01 08:26:00</td>\n",
       "      <td>3.39</td>\n",
       "      <td>17850.0</td>\n",
       "      <td>United Kingdom</td>\n",
       "      <td>2010</td>\n",
       "      <td>12</td>\n",
       "      <td>1</td>\n",
       "      <td>Wednesday</td>\n",
       "      <td>8</td>\n",
       "      <td>20.34</td>\n",
       "    </tr>\n",
       "    <tr>\n",
       "      <th>2</th>\n",
       "      <td>536365</td>\n",
       "      <td>84406B</td>\n",
       "      <td>CREAM CUPID HEARTS COAT HANGER</td>\n",
       "      <td>8</td>\n",
       "      <td>2010-12-01 08:26:00</td>\n",
       "      <td>2.75</td>\n",
       "      <td>17850.0</td>\n",
       "      <td>United Kingdom</td>\n",
       "      <td>2010</td>\n",
       "      <td>12</td>\n",
       "      <td>1</td>\n",
       "      <td>Wednesday</td>\n",
       "      <td>8</td>\n",
       "      <td>22.00</td>\n",
       "    </tr>\n",
       "    <tr>\n",
       "      <th>3</th>\n",
       "      <td>536365</td>\n",
       "      <td>84029G</td>\n",
       "      <td>KNITTED UNION FLAG HOT WATER BOTTLE</td>\n",
       "      <td>6</td>\n",
       "      <td>2010-12-01 08:26:00</td>\n",
       "      <td>3.39</td>\n",
       "      <td>17850.0</td>\n",
       "      <td>United Kingdom</td>\n",
       "      <td>2010</td>\n",
       "      <td>12</td>\n",
       "      <td>1</td>\n",
       "      <td>Wednesday</td>\n",
       "      <td>8</td>\n",
       "      <td>20.34</td>\n",
       "    </tr>\n",
       "    <tr>\n",
       "      <th>4</th>\n",
       "      <td>536365</td>\n",
       "      <td>84029E</td>\n",
       "      <td>RED WOOLLY HOTTIE WHITE HEART.</td>\n",
       "      <td>6</td>\n",
       "      <td>2010-12-01 08:26:00</td>\n",
       "      <td>3.39</td>\n",
       "      <td>17850.0</td>\n",
       "      <td>United Kingdom</td>\n",
       "      <td>2010</td>\n",
       "      <td>12</td>\n",
       "      <td>1</td>\n",
       "      <td>Wednesday</td>\n",
       "      <td>8</td>\n",
       "      <td>20.34</td>\n",
       "    </tr>\n",
       "  </tbody>\n",
       "</table>\n",
       "</div>"
      ],
      "text/plain": [
       "  InvoiceNo StockCode                          Description  Quantity  \\\n",
       "0    536365    85123A   WHITE HANGING HEART T-LIGHT HOLDER         6   \n",
       "1    536365     71053                  WHITE METAL LANTERN         6   \n",
       "2    536365    84406B       CREAM CUPID HEARTS COAT HANGER         8   \n",
       "3    536365    84029G  KNITTED UNION FLAG HOT WATER BOTTLE         6   \n",
       "4    536365    84029E       RED WOOLLY HOTTIE WHITE HEART.         6   \n",
       "\n",
       "          InvoiceDate  UnitPrice CustomerID         Country  Year  Month  Day  \\\n",
       "0 2010-12-01 08:26:00       2.55    17850.0  United Kingdom  2010     12    1   \n",
       "1 2010-12-01 08:26:00       3.39    17850.0  United Kingdom  2010     12    1   \n",
       "2 2010-12-01 08:26:00       2.75    17850.0  United Kingdom  2010     12    1   \n",
       "3 2010-12-01 08:26:00       3.39    17850.0  United Kingdom  2010     12    1   \n",
       "4 2010-12-01 08:26:00       3.39    17850.0  United Kingdom  2010     12    1   \n",
       "\n",
       "     Weekday  Hour  TotalPrice  \n",
       "0  Wednesday     8       15.30  \n",
       "1  Wednesday     8       20.34  \n",
       "2  Wednesday     8       22.00  \n",
       "3  Wednesday     8       20.34  \n",
       "4  Wednesday     8       20.34  "
      ]
     },
     "execution_count": 72,
     "metadata": {},
     "output_type": "execute_result"
    }
   ],
   "source": [
    "print(\"\\n                    OVERVIEW OF OUR DATA AFTER CLEANING:\\n\")\n",
    "df.head()"
   ]
  },
  {
   "cell_type": "code",
   "execution_count": null,
   "id": "44191f8f-3709-4bd1-bd20-4fe3e9ec1b4f",
   "metadata": {},
   "outputs": [],
   "source": [
    "# Save to CSV for use in the next phase (Exploratory Data Analysis)\n",
    "df.to_csv(\"C:/Users/DELL/Desktop/PYTHON-FILES/EXCEL DATAS/Online Retail data & PROJECT/Cleaned_Online-retail-Data.csv\", index=False)"
   ]
  },
  {
   "cell_type": "markdown",
   "id": "4f6437b6-189b-4402-b2e0-8f6d1a24259b",
   "metadata": {},
   "source": [
    "===================================================================================================="
   ]
  },
  {
   "cell_type": "markdown",
   "id": "7ec9fd4e-17c4-4af8-85d4-a1e02e610764",
   "metadata": {},
   "source": [
    "## 💼 Business Justification\n",
    "\n",
    "### Why This Cleaning Approach?\n",
    "- **Duplicate Removal**: Prevents revenue double-counting in financial reports\n",
    "- **Missing Value Treatment**: Ensures customer analytics accuracy\n",
    "- **Data Type Optimization**: Improves computational efficiency for large-scale analysis\n",
    "\n",
    "### Expected Business Outcomes:\n",
    "- Accurate customer segmentation for marketing campaigns\n",
    "- Reliable inventory turnover analysis\n",
    "- Precise seasonal trend identification\n",
    "\n",
    "## 📝Summary table\n",
    "| Task | Description | \n",
    "|----------|----------|\n",
    "| 1. Loaded raw data | Used pandas.read_csv() with ‘latin1’ encoding | \n",
    "| 2. Dropped duplicates | Removed 5,268 duplicate rows | \n",
    "| 3. Removed missing CustomerIDs | Dropped 135,037 rows with missing CustomerID | \n",
    "| 4. Removed invalid transactions | Filtered out rows with Quantity <= 0 or UnitPrice <= 0 | \n",
    "| 5. Removed cancelled orders | Filtered out InvoiceNo starting with 'C' | \n",
    "| 6. Converted datetime | Transformed InvoiceDate to datetime | \n",
    "| 7. Created time features | Extracted Year, Month, Day, Weekday, and Hour | \n",
    "| 8. Created revenue feature | Added TotalPrice = (Quantity * UnitPrice) | \n",
    "| 9. Verified missing values | 0 nulls remain in the final dataset | \n",
    "| 10. Reset index | Ensured clean DataFrame indexing | \n",
    "| **Final Dataset Stats:** | | \n",
    "| **Metric** | **Value** | \n",
    "| i. Rows Before | 541,909 | \n",
    "| ii. Rows After | 392,677 | \n",
    "| iii. Columns Before | 8 | \n",
    "| iv. Columns After | 14 | \n",
    "| v.\tNulls Remaining | 0 | \n",
    "\n",
    "\n",
    "**Ready for Analysis:__*"
   ]
  },
  {
   "cell_type": "markdown",
   "id": "a013359c-b5c5-4b5b-9d76-eced1d7252ef",
   "metadata": {},
   "source": [
    "===================================================================================================="
   ]
  },
  {
   "cell_type": "markdown",
   "id": "f15554a6-73d7-4a1b-b207-999a898e6d71",
   "metadata": {},
   "source": [
    "## 💡Challenges and Solutions Based on Phase 1 & 2:\n",
    "- During the data cleaning process of online retail transactional data, I identified several non-product items that required strategic handling rather than simple removal.\n",
    "\n",
    "## Challenge 1: Data Quality Assessment - Country Field\n",
    "- Found 241 records (0.06% of dataset) with \"Unspecified\" country\n",
    "- Analysis approach:\n",
    "  1. Investigated CustomerID patterns\n",
    "  2. Checked for geographic clustering\n",
    "  3. Applied business logic for imputation\n",
    "\n",
    "- **Decision:** Applied business logic for imputation by renaming to 'Missing'\n",
    "- **Impact:** Retained valuable transaction data while addressing quality issues\n",
    "  \n",
    "## Challenge 2: Carriage Costs as Line Items\n",
    "- **\"CARRIAGE, NEXT DAY CARRIAGE, POSTAGE AND DOTCOM POSTAGE\"** appeared as separate transactions\n",
    "- Represented shipping/delivery charges, not products\n",
    "- Initial instinct was to remove them as \"dirty data\"\n",
    "- Could skew product analysis if included incorrectly\n",
    "\n",
    "- **Decision:**\n",
    "Solution Implemented:\n",
    "- Categorization: Classified as shipping costs, not products\n",
    "\n",
    "- **Impact:** Marketing teams can better understand which products drive sales versus which shipping options customers prefer\n",
    "\n",
    "## Challenge 3: Bank Charges in Transaction Data\n",
    "- I Found 12 records (0.003% of dataset) \"BANK CHARGES\" entries in the description field\n",
    "- These represented payment processing fees, not actual products\n",
    "\n",
    "- **Decision:** Removing them ensures our analysis focuses only on revenue-generating transactions.\n",
    "- **Impact:** Maintains data integrity for revenue and product performance analysis"
   ]
  },
  {
   "cell_type": "markdown",
   "id": "65034742-a272-4dcd-aef8-2d197d26079c",
   "metadata": {},
   "source": [
    "###                                                                    Thank you!"
   ]
  }
 ],
 "metadata": {
  "kernelspec": {
   "display_name": "Python 3 (ipykernel)",
   "language": "python",
   "name": "python3"
  },
  "language_info": {
   "codemirror_mode": {
    "name": "ipython",
    "version": 3
   },
   "file_extension": ".py",
   "mimetype": "text/x-python",
   "name": "python",
   "nbconvert_exporter": "python",
   "pygments_lexer": "ipython3",
   "version": "3.12.7"
  }
 },
 "nbformat": 4,
 "nbformat_minor": 5
}
